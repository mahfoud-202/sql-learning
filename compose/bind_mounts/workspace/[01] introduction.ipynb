{
 "cells": [
  {
   "cell_type": "markdown",
   "id": "8d968892",
   "metadata": {},
   "source": [
    "# Introduction\n",
    "\n",
    "## What is a database?"
   ]
  },
  {
   "cell_type": "markdown",
   "id": "aebb15e0",
   "metadata": {},
   "source": []
  }
 ],
 "metadata": {
  "kernelspec": {
   "display_name": "Python 3 (ipykernel)",
   "language": "python",
   "name": "python3"
  },
  "language_info": {
   "codemirror_mode": {
    "name": "ipython",
    "version": 3
   },
   "file_extension": ".py",
   "mimetype": "text/x-python",
   "name": "python",
   "nbconvert_exporter": "python",
   "pygments_lexer": "ipython3",
   "version": "3.11.10"
  }
 },
 "nbformat": 4,
 "nbformat_minor": 5
}
